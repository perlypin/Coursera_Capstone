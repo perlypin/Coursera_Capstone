{
    "nbformat_minor": 1, 
    "cells": [
        {
            "source": "# Clustering Toronto Neighbourhoods\n\n\n## Introduction\nIn this notebook, we will explore and cluster neighbourhoods in Toronto. \n\nTo do this we will need a list of all the neighborhoods in Toronto with details like their names, postal codes, boroughs, latitude and logitude values.\n\nOnce we have this data we can use it to find neighborhoods that are similar. We will use the K-Means algorithm to cluster the neighborhoods. Finally, we will visualize the clusters on a map.\n\nThis notebook will have 3 sections: Data Collection and Preprocessing, Fetching location data and Analysis. In the first section, we will get the data for the neighborhoods and process it. In the second section, we will get the location information for each neighborhood through an API. In the third section, we will use K-Means on the dataset and visualize the result on a map.", 
            "cell_type": "markdown", 
            "metadata": {
                "collapsed": true
            }
        }, 
        {
            "source": "## Table of Contents\nI. <a href=\"#section1\">Data Collection and Preprocessing</a>\n  1. <a href=\"#step1\">Scrape neighbourhood data</a>\n  2. <a href=\"#step2\">Extract required data<a>\n  3. <a href=\"#step3\">Explore and Preprocess the dataset<a>\n    \nII. <a href=\"#section2\">Fetch Location Data</a>\n  1. <a href=\"#step4\">Get location data</a>\n  2. <a href=\"#step5\">Add location data to the dataset</a>\n\nII. <a href=\"#section3\">Clustering and Analysis</a>", 
            "cell_type": "markdown", 
            "metadata": {}
        }, 
        {
            "source": "## <a id=\"section1\" style=\"text-decoration:none; color: #000;\">I. Data Collection and Preprocessing</a>\n\n### <a id=\"step1\" style=\"text-decoration:none; color: #000;\">1. Scrape neighbourhood data</a>\nLet's start by getting the data for the neighbourhoods in Toronto.\n\nThe data we need can be found here: https://en.wikipedia.org/wiki/List_of_postal_codes_of_Canada:_M \n\nThe wikipedia page has the neighborhood data displayed in a table. We will scrape this table and then extract the text content.\n\nThere are many python libraries and packages for web scraping. We will use one of the most common ones, BeautifulSoup. The installation details and documentation can be found here: https://beautiful-soup-4.readthedocs.io/en/latest/", 
            "cell_type": "markdown", 
            "metadata": {}
        }, 
        {
            "execution_count": 1, 
            "cell_type": "code", 
            "metadata": {}, 
            "outputs": [], 
            "source": "# Import the libraries\nfrom bs4 import BeautifulSoup\nimport pandas as pd\nimport requests"
        }, 
        {
            "source": "Get the html content from the web page and pass it to the BeautifulSoup constructor.", 
            "cell_type": "markdown", 
            "metadata": {}
        }, 
        {
            "execution_count": 2, 
            "cell_type": "code", 
            "metadata": {}, 
            "outputs": [
                {
                    "output_type": "stream", 
                    "name": "stdout", 
                    "text": "List of postal codes of Canada: M - Wikipedia\n"
                }
            ], 
            "source": "url = \"https://en.wikipedia.org/wiki/List_of_postal_codes_of_Canada:_M\"\n\npage = requests.get(url).text\nsoup = BeautifulSoup(page, \"lxml\")\n\n# Print the title of the web page\nprint(soup.title.string)"
        }, 
        {
            "source": "The BeautifulSoup constructor also takes a parser argument. There are different parsers available. We will use lxml for it's speed. \n\nThe soup object is an object which represents the html document as a tree. This can then be used to find elements by type, id, class or any other attributes.", 
            "cell_type": "markdown", 
            "metadata": {}
        }, 
        {
            "source": "### <a id=\"step2\" style=\"text-decoration:none; color: #000;\">2. Extract required data<a>", 
            "cell_type": "markdown", 
            "metadata": {}
        }, 
        {
            "source": "The html table element has the css classes wikitable and sortable. We can pass these as arguments to the soup object to get the table.\n\nWe will then loop through each row and extract the text content of each cell.", 
            "cell_type": "markdown", 
            "metadata": {}
        }, 
        {
            "execution_count": 3, 
            "cell_type": "code", 
            "metadata": {}, 
            "outputs": [], 
            "source": "# Extract the table\npostal_table = soup.find(\"table\", {\"class\": \"wikitable sortable\"})\n\npostal_data = []\n\n# Get the table headers\nheaders = postal_table.findAll(\"th\")\nheaders = [h.string.replace(\"\\n\", \"\") for h in headers]\n\n# Loop through the table rows and extract the text of the elements\nfor row in postal_table.findAll(\"tr\"):\n    columns = row.findAll(\"td\")\n    if len(columns) > 0:\n        post = {}\n        for index in range(len(columns)):\n            link = columns[index].find(\"a\")\n            if link is not None:\n                post[headers[index]] = link.string.replace(\"\\n\", \"\")\n            else:\n                post[headers[index]] = columns[index].string.replace(\"\\n\", \"\")\n        postal_data.append(post)"
        }, 
        {
            "execution_count": 4, 
            "cell_type": "code", 
            "metadata": {}, 
            "outputs": [
                {
                    "execution_count": 4, 
                    "metadata": {}, 
                    "data": {
                        "text/plain": "[{'Borough': 'Not assigned',\n  'Neighbourhood': 'Not assigned',\n  'Postcode': 'M1A'},\n {'Borough': 'Not assigned',\n  'Neighbourhood': 'Not assigned',\n  'Postcode': 'M2A'},\n {'Borough': 'North York', 'Neighbourhood': 'Parkwoods', 'Postcode': 'M3A'},\n {'Borough': 'North York',\n  'Neighbourhood': 'Victoria Village',\n  'Postcode': 'M4A'},\n {'Borough': 'Downtown Toronto',\n  'Neighbourhood': 'Harbourfront',\n  'Postcode': 'M5A'}]"
                    }, 
                    "output_type": "execute_result"
                }
            ], 
            "source": "postal_data[0:5]"
        }, 
        {
            "source": "Now that we have the table content in a list, let's convert it into a pandas dataframe.", 
            "cell_type": "markdown", 
            "metadata": {}
        }, 
        {
            "execution_count": 5, 
            "cell_type": "code", 
            "metadata": {}, 
            "outputs": [], 
            "source": "postal_df = pd.DataFrame(postal_data)\npostal_df.columns = [\"Borough\", \"Neighborhood\", \"PostalCode\"]\n\n# Sort the values first by PostalCode and then by Neighborhood\npostal_df = postal_df.sort_values(by=[\"PostalCode\", \"Neighborhood\"]).reset_index(drop=True)\n\n# Make PostalCode the first column\nfixed_columns = [postal_df.columns[-1]] + list(postal_df.columns[:-1])\npostal_df = postal_df[fixed_columns]"
        }, 
        {
            "source": "### <a id=\"step3\" style=\"text-decoration:none; color: #000;\">3. Explore and Preprocess the dataset<a>\n\nLet's explore the dataset and fix any inconsistencies.", 
            "cell_type": "markdown", 
            "metadata": {}
        }, 
        {
            "execution_count": 6, 
            "cell_type": "code", 
            "metadata": {}, 
            "outputs": [
                {
                    "output_type": "stream", 
                    "name": "stdout", 
                    "text": "<class 'pandas.core.frame.DataFrame'>\nRangeIndex: 289 entries, 0 to 288\nData columns (total 3 columns):\nPostalCode      289 non-null object\nBorough         289 non-null object\nNeighborhood    289 non-null object\ndtypes: object(3)\nmemory usage: 6.9+ KB\n"
                }
            ], 
            "source": "postal_df.info()"
        }, 
        {
            "execution_count": 7, 
            "cell_type": "code", 
            "metadata": {}, 
            "outputs": [
                {
                    "execution_count": 7, 
                    "metadata": {}, 
                    "data": {
                        "text/html": "<div>\n<style scoped>\n    .dataframe tbody tr th:only-of-type {\n        vertical-align: middle;\n    }\n\n    .dataframe tbody tr th {\n        vertical-align: top;\n    }\n\n    .dataframe thead th {\n        text-align: right;\n    }\n</style>\n<table border=\"1\" class=\"dataframe\">\n  <thead>\n    <tr style=\"text-align: right;\">\n      <th></th>\n      <th>PostalCode</th>\n      <th>Borough</th>\n      <th>Neighborhood</th>\n    </tr>\n  </thead>\n  <tbody>\n    <tr>\n      <th>0</th>\n      <td>M1A</td>\n      <td>Not assigned</td>\n      <td>Not assigned</td>\n    </tr>\n    <tr>\n      <th>1</th>\n      <td>M1B</td>\n      <td>Scarborough</td>\n      <td>Malvern</td>\n    </tr>\n    <tr>\n      <th>2</th>\n      <td>M1B</td>\n      <td>Scarborough</td>\n      <td>Rouge</td>\n    </tr>\n    <tr>\n      <th>3</th>\n      <td>M1C</td>\n      <td>Scarborough</td>\n      <td>Highland Creek</td>\n    </tr>\n    <tr>\n      <th>4</th>\n      <td>M1C</td>\n      <td>Scarborough</td>\n      <td>Port Union</td>\n    </tr>\n  </tbody>\n</table>\n</div>", 
                        "text/plain": "  PostalCode       Borough    Neighborhood\n0        M1A  Not assigned    Not assigned\n1        M1B   Scarborough         Malvern\n2        M1B   Scarborough           Rouge\n3        M1C   Scarborough  Highland Creek\n4        M1C   Scarborough      Port Union"
                    }, 
                    "output_type": "execute_result"
                }
            ], 
            "source": "postal_df.head()"
        }, 
        {
            "source": "The first row has neither borough nor neighborhood. ", 
            "cell_type": "markdown", 
            "metadata": {}
        }, 
        {
            "execution_count": 8, 
            "cell_type": "code", 
            "metadata": {}, 
            "outputs": [
                {
                    "execution_count": 8, 
                    "metadata": {}, 
                    "data": {
                        "text/html": "<div>\n<style scoped>\n    .dataframe tbody tr th:only-of-type {\n        vertical-align: middle;\n    }\n\n    .dataframe tbody tr th {\n        vertical-align: top;\n    }\n\n    .dataframe thead th {\n        text-align: right;\n    }\n</style>\n<table border=\"1\" class=\"dataframe\">\n  <thead>\n    <tr style=\"text-align: right;\">\n      <th></th>\n      <th>PostalCode</th>\n      <th>Borough</th>\n      <th>Neighborhood</th>\n    </tr>\n  </thead>\n  <tbody>\n    <tr>\n      <th>count</th>\n      <td>289</td>\n      <td>289</td>\n      <td>289</td>\n    </tr>\n    <tr>\n      <th>unique</th>\n      <td>180</td>\n      <td>12</td>\n      <td>210</td>\n    </tr>\n    <tr>\n      <th>top</th>\n      <td>M9V</td>\n      <td>Not assigned</td>\n      <td>Not assigned</td>\n    </tr>\n    <tr>\n      <th>freq</th>\n      <td>8</td>\n      <td>77</td>\n      <td>78</td>\n    </tr>\n  </tbody>\n</table>\n</div>", 
                        "text/plain": "       PostalCode       Borough  Neighborhood\ncount         289           289           289\nunique        180            12           210\ntop           M9V  Not assigned  Not assigned\nfreq            8            77            78"
                    }, 
                    "output_type": "execute_result"
                }
            ], 
            "source": "postal_df.describe(include=\"all\")"
        }, 
        {
            "source": "There are 77 boroughs and 78 neighborhoods with the value \"Not assigned\". \n\nLet's drop the rows without borough names. ", 
            "cell_type": "markdown", 
            "metadata": {}
        }, 
        {
            "execution_count": 9, 
            "cell_type": "code", 
            "metadata": {}, 
            "outputs": [
                {
                    "output_type": "stream", 
                    "name": "stdout", 
                    "text": "Original size of the dataset: 289, 3\nNew size of the dataset: 212, 3\n"
                }
            ], 
            "source": "print(\"Original size of the dataset: {0}, {1}\".format(postal_df.shape[0], postal_df.shape[1]))\n\npostal_df = postal_df[postal_df[\"Borough\"] != \"Not assigned\"]\n\nprint(\"New size of the dataset: {0}, {1}\".format(postal_df.shape[0], postal_df.shape[1]))"
        }, 
        {
            "execution_count": 10, 
            "cell_type": "code", 
            "metadata": {}, 
            "outputs": [
                {
                    "output_type": "stream", 
                    "name": "stdout", 
                    "text": "There are 210 unique neighborhoods\n\n\nNumber of unassigned neighborhoods: 1\n\n"
                }, 
                {
                    "execution_count": 10, 
                    "metadata": {}, 
                    "data": {
                        "text/html": "<div>\n<style scoped>\n    .dataframe tbody tr th:only-of-type {\n        vertical-align: middle;\n    }\n\n    .dataframe tbody tr th {\n        vertical-align: top;\n    }\n\n    .dataframe thead th {\n        text-align: right;\n    }\n</style>\n<table border=\"1\" class=\"dataframe\">\n  <thead>\n    <tr style=\"text-align: right;\">\n      <th></th>\n      <th>PostalCode</th>\n      <th>Borough</th>\n      <th>Neighborhood</th>\n    </tr>\n  </thead>\n  <tbody>\n    <tr>\n      <th>195</th>\n      <td>M7A</td>\n      <td>Queen's Park</td>\n      <td>Not assigned</td>\n    </tr>\n  </tbody>\n</table>\n</div>", 
                        "text/plain": "    PostalCode       Borough  Neighborhood\n195        M7A  Queen's Park  Not assigned"
                    }, 
                    "output_type": "execute_result"
                }
            ], 
            "source": "unique_neighborhoods = postal_df[\"Neighborhood\"].unique().tolist()\nprint(\"There are {} unique neighborhoods\".format(len(unique_neighborhoods)))\n\nprint(\"\\n\\nNumber of unassigned neighborhoods: {0}\\n\".format(unique_neighborhoods.count(\"Not assigned\")))\n\npostal_df[postal_df[\"Neighborhood\"] == \"Not assigned\"]"
        }, 
        {
            "source": "One row has an assigned Borough but no Neighborhood. We will set the value of the Borough to the Neighborhood.", 
            "cell_type": "markdown", 
            "metadata": {}
        }, 
        {
            "execution_count": 11, 
            "cell_type": "code", 
            "metadata": {}, 
            "outputs": [
                {
                    "execution_count": 11, 
                    "metadata": {}, 
                    "data": {
                        "text/plain": "PostalCode               M7A\nBorough         Queen's Park\nNeighborhood    Queen's Park\nName: 195, dtype: object"
                    }, 
                    "output_type": "execute_result"
                }
            ], 
            "source": "postal_df.loc[195, :][\"Neighborhood\"] = postal_df.loc[195, :][\"Borough\"]\npostal_df.loc[195, :]"
        }, 
        {
            "execution_count": 12, 
            "cell_type": "code", 
            "metadata": {}, 
            "outputs": [
                {
                    "execution_count": 12, 
                    "metadata": {}, 
                    "data": {
                        "text/html": "<div>\n<style scoped>\n    .dataframe tbody tr th:only-of-type {\n        vertical-align: middle;\n    }\n\n    .dataframe tbody tr th {\n        vertical-align: top;\n    }\n\n    .dataframe thead th {\n        text-align: right;\n    }\n</style>\n<table border=\"1\" class=\"dataframe\">\n  <thead>\n    <tr style=\"text-align: right;\">\n      <th></th>\n      <th>PostalCode</th>\n      <th>Borough</th>\n      <th>Neighborhood</th>\n    </tr>\n  </thead>\n  <tbody>\n    <tr>\n      <th>1</th>\n      <td>M1B</td>\n      <td>Scarborough</td>\n      <td>Malvern</td>\n    </tr>\n    <tr>\n      <th>2</th>\n      <td>M1B</td>\n      <td>Scarborough</td>\n      <td>Rouge</td>\n    </tr>\n    <tr>\n      <th>3</th>\n      <td>M1C</td>\n      <td>Scarborough</td>\n      <td>Highland Creek</td>\n    </tr>\n    <tr>\n      <th>4</th>\n      <td>M1C</td>\n      <td>Scarborough</td>\n      <td>Port Union</td>\n    </tr>\n    <tr>\n      <th>5</th>\n      <td>M1C</td>\n      <td>Scarborough</td>\n      <td>Rouge Hill</td>\n    </tr>\n  </tbody>\n</table>\n</div>", 
                        "text/plain": "  PostalCode      Borough    Neighborhood\n1        M1B  Scarborough         Malvern\n2        M1B  Scarborough           Rouge\n3        M1C  Scarborough  Highland Creek\n4        M1C  Scarborough      Port Union\n5        M1C  Scarborough      Rouge Hill"
                    }, 
                    "output_type": "execute_result"
                }
            ], 
            "source": "postal_df.head()"
        }, 
        {
            "source": "Some of the postal codes have multiple neighborhoods. For example, Highland Creek, Port Union and Rouge Hill have the postal code M1C. We will combine these into a single row with the neighborhood names separated by commas.", 
            "cell_type": "markdown", 
            "metadata": {}
        }, 
        {
            "execution_count": 13, 
            "cell_type": "code", 
            "metadata": {}, 
            "outputs": [
                {
                    "execution_count": 13, 
                    "metadata": {}, 
                    "data": {
                        "text/html": "<div>\n<style scoped>\n    .dataframe tbody tr th:only-of-type {\n        vertical-align: middle;\n    }\n\n    .dataframe tbody tr th {\n        vertical-align: top;\n    }\n\n    .dataframe thead th {\n        text-align: right;\n    }\n</style>\n<table border=\"1\" class=\"dataframe\">\n  <thead>\n    <tr style=\"text-align: right;\">\n      <th></th>\n      <th>Borough</th>\n      <th>PostalCode</th>\n      <th>Neighborhood</th>\n    </tr>\n  </thead>\n  <tbody>\n    <tr>\n      <th>0</th>\n      <td>Central Toronto</td>\n      <td>M4N</td>\n      <td>Lawrence Park</td>\n    </tr>\n    <tr>\n      <th>1</th>\n      <td>Central Toronto</td>\n      <td>M4P</td>\n      <td>Davisville North</td>\n    </tr>\n    <tr>\n      <th>2</th>\n      <td>Central Toronto</td>\n      <td>M4R</td>\n      <td>North Toronto West</td>\n    </tr>\n    <tr>\n      <th>3</th>\n      <td>Central Toronto</td>\n      <td>M4S</td>\n      <td>Davisville</td>\n    </tr>\n    <tr>\n      <th>4</th>\n      <td>Central Toronto</td>\n      <td>M4T</td>\n      <td>Moore Park, Summerhill East</td>\n    </tr>\n    <tr>\n      <th>5</th>\n      <td>Central Toronto</td>\n      <td>M4V</td>\n      <td>Deer Park, Forest Hill SE, Rathnelly, South Hi...</td>\n    </tr>\n    <tr>\n      <th>6</th>\n      <td>Central Toronto</td>\n      <td>M5N</td>\n      <td>Roselawn</td>\n    </tr>\n    <tr>\n      <th>7</th>\n      <td>Central Toronto</td>\n      <td>M5P</td>\n      <td>Forest Hill North, Forest Hill West</td>\n    </tr>\n    <tr>\n      <th>8</th>\n      <td>Central Toronto</td>\n      <td>M5R</td>\n      <td>North Midtown, The Annex, Yorkville</td>\n    </tr>\n    <tr>\n      <th>9</th>\n      <td>Downtown Toronto</td>\n      <td>M4W</td>\n      <td>Rosedale</td>\n    </tr>\n    <tr>\n      <th>10</th>\n      <td>Downtown Toronto</td>\n      <td>M4X</td>\n      <td>Cabbagetown, St. James Town</td>\n    </tr>\n    <tr>\n      <th>11</th>\n      <td>Downtown Toronto</td>\n      <td>M4Y</td>\n      <td>Church and Wellesley</td>\n    </tr>\n    <tr>\n      <th>12</th>\n      <td>Downtown Toronto</td>\n      <td>M5A</td>\n      <td>Harbourfront, Regent Park</td>\n    </tr>\n    <tr>\n      <th>13</th>\n      <td>Downtown Toronto</td>\n      <td>M5B</td>\n      <td>Garden District, Ryerson</td>\n    </tr>\n    <tr>\n      <th>14</th>\n      <td>Downtown Toronto</td>\n      <td>M5C</td>\n      <td>St. James Town</td>\n    </tr>\n  </tbody>\n</table>\n</div>", 
                        "text/plain": "             Borough PostalCode  \\\n0    Central Toronto        M4N   \n1    Central Toronto        M4P   \n2    Central Toronto        M4R   \n3    Central Toronto        M4S   \n4    Central Toronto        M4T   \n5    Central Toronto        M4V   \n6    Central Toronto        M5N   \n7    Central Toronto        M5P   \n8    Central Toronto        M5R   \n9   Downtown Toronto        M4W   \n10  Downtown Toronto        M4X   \n11  Downtown Toronto        M4Y   \n12  Downtown Toronto        M5A   \n13  Downtown Toronto        M5B   \n14  Downtown Toronto        M5C   \n\n                                         Neighborhood  \n0                                       Lawrence Park  \n1                                    Davisville North  \n2                                  North Toronto West  \n3                                          Davisville  \n4                         Moore Park, Summerhill East  \n5   Deer Park, Forest Hill SE, Rathnelly, South Hi...  \n6                                            Roselawn  \n7                 Forest Hill North, Forest Hill West  \n8                 North Midtown, The Annex, Yorkville  \n9                                            Rosedale  \n10                        Cabbagetown, St. James Town  \n11                               Church and Wellesley  \n12                          Harbourfront, Regent Park  \n13                           Garden District, Ryerson  \n14                                     St. James Town  "
                    }, 
                    "output_type": "execute_result"
                }
            ], 
            "source": "grouped_df = postal_df.groupby([\"Borough\", \"PostalCode\"])[\"Neighborhood\"].apply(lambda x: ', '.join(x)).reset_index()\ngrouped_df.head(15)"
        }, 
        {
            "execution_count": 14, 
            "cell_type": "code", 
            "metadata": {}, 
            "outputs": [
                {
                    "execution_count": 14, 
                    "metadata": {}, 
                    "data": {
                        "text/plain": "(103, 3)"
                    }, 
                    "output_type": "execute_result"
                }
            ], 
            "source": "grouped_df.shape"
        }, 
        {
            "source": "## <a id=\"section2\" style=\"text-decoration:none; color: #000;\">II. Fetch Location Data</a>\n\nWe will be using the Foursquare API to get information about the different neighborhoods. For this, we need to get the latitude and longitude of each neighborhood.\n\n### <a id=\"step4\" style=\"text-decoration:none; color: #000;\">1. Get location data</a>\nThe geocoder python package can be used to get location data for each neighborhood in the dataset. It takes in an address and returns the latitude and longitude. Documentation for the packages can be found here: https://geocoder.readthedocs.io/index.html. \n\nThe geocoder API does not always return the location data. So we will use the following csv file containing the location data for the neighborhoods: https://cocl.us/Geospatial_data", 
            "cell_type": "markdown", 
            "metadata": {}
        }, 
        {
            "execution_count": 15, 
            "cell_type": "code", 
            "metadata": {}, 
            "outputs": [
                {
                    "execution_count": 15, 
                    "metadata": {}, 
                    "data": {
                        "text/html": "<div>\n<style scoped>\n    .dataframe tbody tr th:only-of-type {\n        vertical-align: middle;\n    }\n\n    .dataframe tbody tr th {\n        vertical-align: top;\n    }\n\n    .dataframe thead th {\n        text-align: right;\n    }\n</style>\n<table border=\"1\" class=\"dataframe\">\n  <thead>\n    <tr style=\"text-align: right;\">\n      <th></th>\n      <th>Postal Code</th>\n      <th>Latitude</th>\n      <th>Longitude</th>\n    </tr>\n  </thead>\n  <tbody>\n    <tr>\n      <th>0</th>\n      <td>M1B</td>\n      <td>43.806686</td>\n      <td>-79.194353</td>\n    </tr>\n    <tr>\n      <th>1</th>\n      <td>M1C</td>\n      <td>43.784535</td>\n      <td>-79.160497</td>\n    </tr>\n    <tr>\n      <th>2</th>\n      <td>M1E</td>\n      <td>43.763573</td>\n      <td>-79.188711</td>\n    </tr>\n    <tr>\n      <th>3</th>\n      <td>M1G</td>\n      <td>43.770992</td>\n      <td>-79.216917</td>\n    </tr>\n    <tr>\n      <th>4</th>\n      <td>M1H</td>\n      <td>43.773136</td>\n      <td>-79.239476</td>\n    </tr>\n  </tbody>\n</table>\n</div>", 
                        "text/plain": "  Postal Code   Latitude  Longitude\n0         M1B  43.806686 -79.194353\n1         M1C  43.784535 -79.160497\n2         M1E  43.763573 -79.188711\n3         M1G  43.770992 -79.216917\n4         M1H  43.773136 -79.239476"
                    }, 
                    "output_type": "execute_result"
                }
            ], 
            "source": "loc_url = \"https://cocl.us/Geospatial_data\"\n\nloc_df = pd.read_csv(loc_url)\nloc_df.head()"
        }, 
        {
            "source": "### <a id=\"step5\" style=\"text-decoration:none; color: #000;\">2. Add location data to the dataset</a>\n", 
            "cell_type": "markdown", 
            "metadata": {}
        }, 
        {
            "source": "Now we can merge both the datasets on postal code. The name for this column is different in each dataframe. So we use the left_on and right_on parameters to the merge function and drop the duplicate column.", 
            "cell_type": "markdown", 
            "metadata": {}
        }, 
        {
            "execution_count": 16, 
            "cell_type": "code", 
            "metadata": {}, 
            "outputs": [
                {
                    "execution_count": 16, 
                    "metadata": {}, 
                    "data": {
                        "text/html": "<div>\n<style scoped>\n    .dataframe tbody tr th:only-of-type {\n        vertical-align: middle;\n    }\n\n    .dataframe tbody tr th {\n        vertical-align: top;\n    }\n\n    .dataframe thead th {\n        text-align: right;\n    }\n</style>\n<table border=\"1\" class=\"dataframe\">\n  <thead>\n    <tr style=\"text-align: right;\">\n      <th></th>\n      <th>Borough</th>\n      <th>PostalCode</th>\n      <th>Neighborhood</th>\n      <th>Latitude</th>\n      <th>Longitude</th>\n    </tr>\n  </thead>\n  <tbody>\n    <tr>\n      <th>0</th>\n      <td>Central Toronto</td>\n      <td>M4N</td>\n      <td>Lawrence Park</td>\n      <td>43.728020</td>\n      <td>-79.388790</td>\n    </tr>\n    <tr>\n      <th>1</th>\n      <td>Central Toronto</td>\n      <td>M4P</td>\n      <td>Davisville North</td>\n      <td>43.712751</td>\n      <td>-79.390197</td>\n    </tr>\n    <tr>\n      <th>2</th>\n      <td>Central Toronto</td>\n      <td>M4R</td>\n      <td>North Toronto West</td>\n      <td>43.715383</td>\n      <td>-79.405678</td>\n    </tr>\n    <tr>\n      <th>3</th>\n      <td>Central Toronto</td>\n      <td>M4S</td>\n      <td>Davisville</td>\n      <td>43.704324</td>\n      <td>-79.388790</td>\n    </tr>\n    <tr>\n      <th>4</th>\n      <td>Central Toronto</td>\n      <td>M4T</td>\n      <td>Moore Park, Summerhill East</td>\n      <td>43.689574</td>\n      <td>-79.383160</td>\n    </tr>\n  </tbody>\n</table>\n</div>", 
                        "text/plain": "           Borough PostalCode                 Neighborhood   Latitude  \\\n0  Central Toronto        M4N                Lawrence Park  43.728020   \n1  Central Toronto        M4P             Davisville North  43.712751   \n2  Central Toronto        M4R           North Toronto West  43.715383   \n3  Central Toronto        M4S                   Davisville  43.704324   \n4  Central Toronto        M4T  Moore Park, Summerhill East  43.689574   \n\n   Longitude  \n0 -79.388790  \n1 -79.390197  \n2 -79.405678  \n3 -79.388790  \n4 -79.383160  "
                    }, 
                    "output_type": "execute_result"
                }
            ], 
            "source": "toronto_df = grouped_df.merge(loc_df, left_on=\"PostalCode\", right_on=\"Postal Code\")\ntoronto_df.drop(\"Postal Code\", axis=1, inplace=True)\ntoronto_df.head()"
        }, 
        {
            "source": "Rearraging the columns,", 
            "cell_type": "markdown", 
            "metadata": {}
        }, 
        {
            "execution_count": 17, 
            "cell_type": "code", 
            "metadata": {}, 
            "outputs": [
                {
                    "execution_count": 17, 
                    "metadata": {}, 
                    "data": {
                        "text/html": "<div>\n<style scoped>\n    .dataframe tbody tr th:only-of-type {\n        vertical-align: middle;\n    }\n\n    .dataframe tbody tr th {\n        vertical-align: top;\n    }\n\n    .dataframe thead th {\n        text-align: right;\n    }\n</style>\n<table border=\"1\" class=\"dataframe\">\n  <thead>\n    <tr style=\"text-align: right;\">\n      <th></th>\n      <th>PostalCode</th>\n      <th>Borough</th>\n      <th>Neighborhood</th>\n      <th>Latitude</th>\n      <th>Longitude</th>\n    </tr>\n  </thead>\n  <tbody>\n    <tr>\n      <th>0</th>\n      <td>M4N</td>\n      <td>Central Toronto</td>\n      <td>Lawrence Park</td>\n      <td>43.728020</td>\n      <td>-79.388790</td>\n    </tr>\n    <tr>\n      <th>1</th>\n      <td>M4P</td>\n      <td>Central Toronto</td>\n      <td>Davisville North</td>\n      <td>43.712751</td>\n      <td>-79.390197</td>\n    </tr>\n    <tr>\n      <th>2</th>\n      <td>M4R</td>\n      <td>Central Toronto</td>\n      <td>North Toronto West</td>\n      <td>43.715383</td>\n      <td>-79.405678</td>\n    </tr>\n    <tr>\n      <th>3</th>\n      <td>M4S</td>\n      <td>Central Toronto</td>\n      <td>Davisville</td>\n      <td>43.704324</td>\n      <td>-79.388790</td>\n    </tr>\n    <tr>\n      <th>4</th>\n      <td>M4T</td>\n      <td>Central Toronto</td>\n      <td>Moore Park, Summerhill East</td>\n      <td>43.689574</td>\n      <td>-79.383160</td>\n    </tr>\n    <tr>\n      <th>5</th>\n      <td>M4V</td>\n      <td>Central Toronto</td>\n      <td>Deer Park, Forest Hill SE, Rathnelly, South Hi...</td>\n      <td>43.686412</td>\n      <td>-79.400049</td>\n    </tr>\n    <tr>\n      <th>6</th>\n      <td>M5N</td>\n      <td>Central Toronto</td>\n      <td>Roselawn</td>\n      <td>43.711695</td>\n      <td>-79.416936</td>\n    </tr>\n    <tr>\n      <th>7</th>\n      <td>M5P</td>\n      <td>Central Toronto</td>\n      <td>Forest Hill North, Forest Hill West</td>\n      <td>43.696948</td>\n      <td>-79.411307</td>\n    </tr>\n    <tr>\n      <th>8</th>\n      <td>M5R</td>\n      <td>Central Toronto</td>\n      <td>North Midtown, The Annex, Yorkville</td>\n      <td>43.672710</td>\n      <td>-79.405678</td>\n    </tr>\n    <tr>\n      <th>9</th>\n      <td>M4W</td>\n      <td>Downtown Toronto</td>\n      <td>Rosedale</td>\n      <td>43.679563</td>\n      <td>-79.377529</td>\n    </tr>\n    <tr>\n      <th>10</th>\n      <td>M4X</td>\n      <td>Downtown Toronto</td>\n      <td>Cabbagetown, St. James Town</td>\n      <td>43.667967</td>\n      <td>-79.367675</td>\n    </tr>\n    <tr>\n      <th>11</th>\n      <td>M4Y</td>\n      <td>Downtown Toronto</td>\n      <td>Church and Wellesley</td>\n      <td>43.665860</td>\n      <td>-79.383160</td>\n    </tr>\n  </tbody>\n</table>\n</div>", 
                        "text/plain": "   PostalCode           Borough  \\\n0         M4N   Central Toronto   \n1         M4P   Central Toronto   \n2         M4R   Central Toronto   \n3         M4S   Central Toronto   \n4         M4T   Central Toronto   \n5         M4V   Central Toronto   \n6         M5N   Central Toronto   \n7         M5P   Central Toronto   \n8         M5R   Central Toronto   \n9         M4W  Downtown Toronto   \n10        M4X  Downtown Toronto   \n11        M4Y  Downtown Toronto   \n\n                                         Neighborhood   Latitude  Longitude  \n0                                       Lawrence Park  43.728020 -79.388790  \n1                                    Davisville North  43.712751 -79.390197  \n2                                  North Toronto West  43.715383 -79.405678  \n3                                          Davisville  43.704324 -79.388790  \n4                         Moore Park, Summerhill East  43.689574 -79.383160  \n5   Deer Park, Forest Hill SE, Rathnelly, South Hi...  43.686412 -79.400049  \n6                                            Roselawn  43.711695 -79.416936  \n7                 Forest Hill North, Forest Hill West  43.696948 -79.411307  \n8                 North Midtown, The Annex, Yorkville  43.672710 -79.405678  \n9                                            Rosedale  43.679563 -79.377529  \n10                        Cabbagetown, St. James Town  43.667967 -79.367675  \n11                               Church and Wellesley  43.665860 -79.383160  "
                    }, 
                    "output_type": "execute_result"
                }
            ], 
            "source": "fixed_columns = [toronto_df.columns[1], toronto_df.columns[0]] + list(toronto_df.columns[2:])\ntoronto_df = toronto_df[fixed_columns]\ntoronto_df.head(12)"
        }, 
        {
            "execution_count": null, 
            "cell_type": "code", 
            "metadata": {}, 
            "outputs": [], 
            "source": ""
        }
    ], 
    "metadata": {
        "kernelspec": {
            "display_name": "Python 3.5", 
            "name": "python3", 
            "language": "python"
        }, 
        "language_info": {
            "mimetype": "text/x-python", 
            "nbconvert_exporter": "python", 
            "version": "3.5.5", 
            "name": "python", 
            "file_extension": ".py", 
            "pygments_lexer": "ipython3", 
            "codemirror_mode": {
                "version": 3, 
                "name": "ipython"
            }
        }
    }, 
    "nbformat": 4
}